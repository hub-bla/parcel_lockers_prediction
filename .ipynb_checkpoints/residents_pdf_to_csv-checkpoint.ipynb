{
 "cells": [
  {
   "cell_type": "code",
   "execution_count": 19,
   "id": "8fd6159b-b932-4b81-a09f-40594f118b40",
   "metadata": {},
   "outputs": [
    {
     "name": "stderr",
     "output_type": "stream",
     "text": [
      "C:\\Users\\Hubert\\anaconda3\\envs\\paczkomaty\\lib\\site-packages\\tabula\\io.py:1045: FutureWarning: errors='ignore' is deprecated and will raise in a future version. Use to_numeric without passing `errors` and catch exceptions explicitly instead\n",
      "  df[c] = pd.to_numeric(df[c], errors=\"ignore\")\n"
     ]
    }
   ],
   "source": [
    "from tabula import read_pdf\n",
    "from tabulate import tabulate\n",
    "import pandas as pd\n",
    "\n",
    "#reads table from pdf file\n",
    "residents = read_pdf(\"residents.pdf\",pages=\"all\") #address of pdf file\n",
    "\n",
    "columns = list(residents[0].columns)\n",
    "\n",
    "extra_row = list(residents[1].columns)\n",
    "residents[1] = residents[1].rename(columns={f'{prev}': new for prev, new in zip(extra_row, columns)})\n",
    "\n",
    "# insert to 0 index\n",
    "residents[1].loc[-1] = extra_row  #add row with index -1\n",
    "residents[1].index = residents[1].index + 1  # shift indices so -1 is now 0\n",
    "residents[1] = residents[1].sort_index()  # sort by index\n",
    "\n",
    "residents = pd.concat(residents, ignore_index=True,axis=0)\n",
    "residents['Nazwa osiedla'] = residents['Nazwa osiedla'].apply(lambda estate: estate.replace('\\r', ''))\n",
    "\n",
    "#change decimals to floats\n",
    "residents['Powierzchnia w km2'] = pd.to_numeric(residents['Powierzchnia w km2'].apply(lambda s: s.replace(',', '.')))\n",
    "residents['Gęstość zaludnienia'] = pd.to_numeric(residents['Gęstość zaludnienia'].apply(lambda s: s.replace(',', '.')))\n",
    "\n",
    "residents.to_csv('residents.csv', index=False)\n"
   ]
  }
 ],
 "metadata": {
  "kernelspec": {
   "display_name": "Python 3 (ipykernel)",
   "language": "python",
   "name": "python3"
  },
  "language_info": {
   "codemirror_mode": {
    "name": "ipython",
    "version": 3
   },
   "file_extension": ".py",
   "mimetype": "text/x-python",
   "name": "python",
   "nbconvert_exporter": "python",
   "pygments_lexer": "ipython3",
   "version": "3.10.13"
  }
 },
 "nbformat": 4,
 "nbformat_minor": 5
}
